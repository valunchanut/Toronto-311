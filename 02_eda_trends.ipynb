{
 "cells": [
  {
   "cell_type": "markdown",
   "id": "da3a720e",
   "metadata": {},
   "source": [
    "# 02 · EDA & Trends — Toronto 311\\nLoads CSV exports to explore top complaint types, YTD vs last year, and quick visuals."
   ]
  },
  {
   "cell_type": "code",
   "execution_count": null,
   "id": "88d9309c",
   "metadata": {},
   "outputs": [],
   "source": [
    "import os, pandas as pd, numpy as np\n",
    "import matplotlib.pyplot as plt\n",
    "from datetime import date\n",
    "\n",
    "EXPORT_DIR = \"export\"\n",
    "FIG_DIR = \"figures\"\n",
    "os.makedirs(FIG_DIR, exist_ok=True)\n",
    "\n",
    "df_counts = pd.read_csv(os.path.join(EXPORT_DIR, \"311_counts_year_type_division_ward_2021_2025.csv\"))\n",
    "top_by_year = pd.read_csv(os.path.join(EXPORT_DIR, \"311_top_types_by_year_2021_2025.csv\"))\n",
    "daily = pd.read_csv(os.path.join(EXPORT_DIR, \"311_daily_totals_2021_2025.csv\"), parse_dates=[\"day\"])\n",
    "\n",
    "# Helper: current year & YTD cutoff\n",
    "today = pd.Timestamp(date.today())\n",
    "this_year = today.year\n",
    "cutoff = today.normalize()\n",
    "\n",
    "# Cumulative YTD by year\n",
    "daily['year'] = daily['day'].dt.year\n",
    "daily['yday'] = daily['day'].dt.dayofyear\n",
    "ytd = (daily[daily['day'] <= cutoff]\n",
    "       .groupby(['year'], as_index=False)['n'].sum()\n",
    "       .sort_values('year'))\n",
    "ytd\n"
   ]
  },
  {
   "cell_type": "code",
   "execution_count": null,
   "id": "4d6dfbfd",
   "metadata": {},
   "outputs": [],
   "source": [
    "# Plot: Top 10 complaint types overall (2021–2025 YTD)\n",
    "overall_top = (df_counts.groupby('type', as_index=False)['n'].sum()\n",
    "                         .sort_values('n', ascending=False)\n",
    "                         .head(10))\n",
    "plt.figure()\n",
    "plt.barh(overall_top['type'], overall_top['n'])\n",
    "plt.title(\"Top 10 Toronto 311 Request Types (2021–2025 YTD)\")\n",
    "plt.xlabel(\"Count\"); plt.gca().invert_yaxis()\n",
    "plt.tight_layout()\n",
    "plt.savefig(os.path.join(FIG_DIR, \"top10_types_overall.png\"), dpi=160)\n",
    "plt.show()\n"
   ]
  },
  {
   "cell_type": "code",
   "execution_count": null,
   "id": "263ae588",
   "metadata": {},
   "outputs": [],
   "source": [
    "# Plot: Cumulative YTD vs Last Year\n",
    "last_year = this_year - 1\n",
    "df_cur = daily[daily['year'] == this_year].copy()\n",
    "df_prev = daily[daily['year'] == last_year].copy()\n",
    "\n",
    "df_cur = df_cur.sort_values('day').assign(cum=lambda d: d['n'].cumsum())\n",
    "df_prev = df_prev.sort_values('day').assign(cum=lambda d: d['n'].cumsum())\n",
    "\n",
    "plt.figure()\n",
    "if not df_prev.empty:\n",
    "    plt.plot(df_prev['day'], df_prev['cum'], label=str(last_year))\n",
    "if not df_cur.empty:\n",
    "    plt.plot(df_cur['day'], df_cur['cum'], label=str(this_year))\n",
    "plt.title(\"Cumulative 311 Requests — YTD vs Last Year\")\n",
    "plt.xlabel(\"Date\"); plt.ylabel(\"Cumulative Requests\")\n",
    "plt.legend()\n",
    "plt.tight_layout()\n",
    "plt.savefig(os.path.join(FIG_DIR, \"cumulative_ytd_vs_last_year.png\"), dpi=160)\n",
    "plt.show()\n"
   ]
  },
  {
   "cell_type": "code",
   "execution_count": null,
   "id": "202a96c1",
   "metadata": {},
   "outputs": [],
   "source": [
    "# Heatmap-style table: YoY % change per type (2023–2025 YTD focus)\n",
    "recent_years = [this_year-2, this_year-1, this_year]\n",
    "by_type_year = (df_counts.groupby(['year','type'], as_index=False)['n'].sum()\n",
    "                           .query('year in @recent_years'))\n",
    "pivot = by_type_year.pivot(index='type', columns='year', values='n').fillna(0).astype(int)\n",
    "for y in recent_years[1:]:\n",
    "    prev = y-1\n",
    "    pivot[f\"YoY%_{prev}->{y}\"] = np.where(pivot[prev]==0, np.nan, (pivot[y]-pivot[prev])*100.0/pivot[prev])\n",
    "pivot.to_csv(os.path.join(EXPORT_DIR, \"types_yoy_change_recent.csv\"))\n",
    "pivot.head(15)\n"
   ]
  }
 ],
 "metadata": {},
 "nbformat": 4,
 "nbformat_minor": 5
}
